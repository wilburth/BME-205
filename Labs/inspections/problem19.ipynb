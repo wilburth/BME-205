{
 "cells": [
  {
   "cell_type": "code",
   "execution_count": 20,
   "outputs": [
    {
     "name": "stdout",
     "output_type": "stream",
     "text": [
      "3.2734300326748258e-15\n"
     ]
    }
   ],
   "source": [
    "class HMM():\n",
    "    def __init__(self, transMatrix):\n",
    "        '''\n",
    "\n",
    "        :param transMatrix: Nested dictionary representing a transition matrix\n",
    "        key:value --> state: RowDictionary\n",
    "        Where RowDictionary is a dictionary that represents a single row in the matrix.\n",
    "        key:value --> state: transition pr\n",
    "        '''\n",
    "        self.transMatrix = transMatrix\n",
    "\n",
    "    def prPath(self, path,states):\n",
    "        '''\n",
    "        Finds the probability of path, path is a string that represents the hidden path of an HMM\n",
    "        :return: PR(path) as an int\n",
    "        '''\n",
    "        pr = 1/len(states)\n",
    "        for i in range(len(path)-1):\n",
    "            pr *= self.transMatrix[path[i]][path[i+1]]\n",
    "\n",
    "        return pr\n",
    "\n",
    "def main(fName=''):\n",
    "    '''\n",
    "    Handles input/output. Generates transition matrix and path from input data and\n",
    "    runs prPath to find the probability of the given path\n",
    "    '''\n",
    "    with open(fName) as inFile:\n",
    "        lines = inFile.readlines()\n",
    "        path = lines[0].strip()\n",
    "        states = lines[2].strip().split()\n",
    "\n",
    "        transMatrix = {}\n",
    "\n",
    "        # These loops generate the transition matrix from the given input\n",
    "        for i in range(len(states)):\n",
    "            row = lines[5+i].strip().split()\n",
    "\n",
    "            rowDictionary = {}\n",
    "            for j in range(len(states)):\n",
    "                rowDictionary[states[j]] = float(row[j+1])\n",
    "            transMatrix[row[0]] = rowDictionary\n",
    "\n",
    "\n",
    "    hmm = HMM(transMatrix)\n",
    "    print(hmm.prPath(path,states))\n",
    "if __name__ == '__main__':\n",
    "    main('problem19in.txt')"
   ],
   "metadata": {
    "collapsed": false,
    "pycharm": {
     "name": "#%%\n"
    }
   }
  },
  {
   "cell_type": "code",
   "execution_count": 21,
   "outputs": [
    {
     "name": "stdout",
     "output_type": "stream",
     "text": [
      "3.2734300326748258e-15\n"
     ]
    }
   ],
   "source": [
    "main('problem19in.txt')"
   ],
   "metadata": {
    "collapsed": false,
    "pycharm": {
     "name": "#%%\n"
    }
   }
  },
  {
   "cell_type": "markdown",
   "source": [
    "Probability of a Hidden Path Problem\n",
    "\n",
    "Given: A hidden path π followed by the states States and transition matrix Transition of an HMM (Σ, States, Transition, Emission).\n",
    "\n",
    "Return: The probability of this path, Pr(π). You may assume that initial probabilities are equal.\n"
   ],
   "metadata": {
    "collapsed": false
   }
  }
 ],
 "metadata": {
  "kernelspec": {
   "display_name": "Python 3",
   "language": "python",
   "name": "python3"
  },
  "language_info": {
   "codemirror_mode": {
    "name": "ipython",
    "version": 2
   },
   "file_extension": ".py",
   "mimetype": "text/x-python",
   "name": "python",
   "nbconvert_exporter": "python",
   "pygments_lexer": "ipython2",
   "version": "2.7.6"
  }
 },
 "nbformat": 4,
 "nbformat_minor": 0
}