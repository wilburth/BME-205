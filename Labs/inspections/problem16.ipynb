{
 "cells": [
  {
   "cell_type": "code",
   "execution_count": 9,
   "metadata": {
    "collapsed": true
   },
   "outputs": [
    {
     "name": "stdout",
     "output_type": "stream",
     "text": [
      "AAGGAAGTATTTGAGCCTCATTATTAC\n",
      "ATAGTAGTGTGGTTCAAATACCTCCTT\n",
      "AAAGAGGTGTTTGAACCTCATTACTAT\n",
      "GTAATAGTGCGGTTCAAAAACTTCCTT\n",
      "AAGGAGGTATTTGAACCCCACTATTAC\n",
      "ATAGTAGTGAGGTTCGAAGACTTCCTT\n",
      "GTAGTAATGGGGCTCAAACACCTCTTT\n",
      "ATAATAATGTGGCTCGAACACTTCTTT\n",
      "AAAGAAGTTTTCGAACCACATTATTAC\n",
      "ATAGTAATGAGGTTCGAAAACCTCTTT\n",
      "GTAGTAGTGCGGCTCAAAAACTTCCTT\n",
      "ATAGTAATGGGGTTCGAAGACTTCCTT\n",
      "AAGGAAGTGTTTGAACCTCACTATTAT\n",
      "ATAATAGTGAGGCTCAAAAACTTCCTT\n",
      "AAAGAAGTTTTCGAGCCGCACTACTAC\n",
      "GTAGTAATGGGGTTCGAAGACTTCCTT\n",
      "GTAGTAATGAGGTTCAAAAACCTCCTT\n",
      "GTAGTAATGGGGCTCGAAAACCTCCTT\n",
      "ATAATAATGCGGCTCGAATACTTCCTT\n",
      "AAGGAAGTATTCGAACCACATTACTAT\n"
     ]
    }
   ],
   "source": [
    "def genSubstrings(seq,l):\n",
    "    '''\n",
    "    returns a list of all substrings of codons in seq of a given length\n",
    "    :param DnaString:\n",
    "    :param l: int defining the length of the substrings to find\n",
    "    :return: list of substrings of length l\n",
    "    '''\n",
    "\n",
    "    subStrings = []\n",
    "\n",
    "    for i in range(3): # iterates through each reading frame\n",
    "        for j in range(i,len(seq),3): # finds all substrings of codons of length l\n",
    "            subStrings.append(seq[j:j+l])\n",
    "\n",
    "    return [x for x in subStrings if len(x) == l]; # removes the substrings that are too short\n",
    "\n",
    "def dnaToAA(seq):\n",
    "    '''\n",
    "    Converts a DNA sequence into the list of amino acids that will make up the protein it encodes for\n",
    "    :param seq: string representing a DNA sequence\n",
    "    :return: string representing a peptide\n",
    "    '''\n",
    "    codon2aa = {'ATA':'I', 'ATC':'I', 'ATT':'I', 'ATG':'M',\n",
    "        'ACA':'T', 'ACC':'T', 'ACG':'T', 'ACT':'T',\n",
    "        'AAC':'N', 'AAT':'N', 'AAA':'K', 'AAG':'K',\n",
    "        'AGC':'S', 'AGT':'S', 'AGA':'R', 'AGG':'R',\n",
    "        'CTA':'L', 'CTC':'L', 'CTG':'L', 'CTT':'L',\n",
    "        'CCA':'P', 'CCC':'P', 'CCG':'P', 'CCT':'P',\n",
    "        'CAC':'H', 'CAT':'H', 'CAA':'Q', 'CAG':'Q',\n",
    "        'CGA':'R', 'CGC':'R', 'CGG':'R', 'CGT':'R',\n",
    "        'GTA':'V', 'GTC':'V', 'GTG':'V', 'GTT':'V',\n",
    "        'GCA':'A', 'GCC':'A', 'GCG':'A', 'GCT':'A',\n",
    "        'GAC':'D', 'GAT':'D', 'GAA':'E', 'GAG':'E',\n",
    "        'GGA':'G', 'GGC':'G', 'GGG':'G', 'GGT':'G',\n",
    "        'TCA':'S', 'TCC':'S', 'TCG':'S', 'TCT':'S',\n",
    "        'TTC':'F', 'TTT':'F', 'TTA':'L', 'TTG':'L',\n",
    "        'TAC':'Y', 'TAT':'Y', 'TAA':'_', 'TAG':'_',\n",
    "        'TGC':'C', 'TGT':'C', 'TGA':'_', 'TGG':'W'}\n",
    "\n",
    "    AminoAcids = ''\n",
    "    for i in range(0,len(seq),3): # looks at each codon and references the dictionary above to translate them into amino acids\n",
    "        AminoAcids += codon2aa[seq[i:i+3]]\n",
    "    return AminoAcids;\n",
    "\n",
    "def findEncodingSeqs(subStrings, aaString):\n",
    "    '''\n",
    "    finds all sequences in subStrings that encode the polypeptide described by aaString\n",
    "    :param subStrings: list of substrings representing peptides\n",
    "    :param aaString: string representing a peptide\n",
    "    :return: list of strings, representing all possible encoding sequences in the input\n",
    "    '''\n",
    "    encodingSeqs = []\n",
    "    for seq in subStrings: # iterates through list of substrings created by genSubStrings\n",
    "        rev = seq.translate(str.maketrans(\"ATCG\", \"TAGC\"))[::-1] # calculates the reverse complement of the sequence\n",
    "        if dnaToAA(seq) == aaString:  # checks if the forward strand matches the peptide\n",
    "            encodingSeqs.append(seq)\n",
    "        elif dnaToAA(rev) == aaString: # checks if reverse complement strand matches the peptide\n",
    "            encodingSeqs.append(seq)\n",
    "\n",
    "    return encodingSeqs;\n",
    "\n",
    "\n",
    "\n",
    "\n",
    "\n",
    "def main(fName):\n",
    "    '''\n",
    "\n",
    "    :param fName:\n",
    "    :return:\n",
    "    '''\n",
    "    with open(fName) as inFile:\n",
    "        lines =  inFile.readlines()\n",
    "        DnaString = lines[0].strip()\n",
    "        aaString = lines[1].strip()\n",
    "\n",
    "\n",
    "    subStrings = genSubstrings(DnaString,len(aaString)*3)\n",
    "\n",
    "    for seq in findEncodingSeqs(subStrings,aaString):\n",
    "        print(seq)\n",
    "if __name__ == '__main__':\n",
    "    main(fName='16input')"
   ]
  },
  {
   "cell_type": "code",
   "execution_count": 10,
   "outputs": [
    {
     "name": "stdout",
     "output_type": "stream",
     "text": [
      "AAGGAAGTATTTGAGCCTCATTATTAC\n",
      "ATAGTAGTGTGGTTCAAATACCTCCTT\n",
      "AAAGAGGTGTTTGAACCTCATTACTAT\n",
      "GTAATAGTGCGGTTCAAAAACTTCCTT\n",
      "AAGGAGGTATTTGAACCCCACTATTAC\n",
      "ATAGTAGTGAGGTTCGAAGACTTCCTT\n",
      "GTAGTAATGGGGCTCAAACACCTCTTT\n",
      "ATAATAATGTGGCTCGAACACTTCTTT\n",
      "AAAGAAGTTTTCGAACCACATTATTAC\n",
      "ATAGTAATGAGGTTCGAAAACCTCTTT\n",
      "GTAGTAGTGCGGCTCAAAAACTTCCTT\n",
      "ATAGTAATGGGGTTCGAAGACTTCCTT\n",
      "AAGGAAGTGTTTGAACCTCACTATTAT\n",
      "ATAATAGTGAGGCTCAAAAACTTCCTT\n",
      "AAAGAAGTTTTCGAGCCGCACTACTAC\n",
      "GTAGTAATGGGGTTCGAAGACTTCCTT\n",
      "GTAGTAATGAGGTTCAAAAACCTCCTT\n",
      "GTAGTAATGGGGCTCGAAAACCTCCTT\n",
      "ATAATAATGCGGCTCGAATACTTCCTT\n",
      "AAGGAAGTATTCGAACCACATTACTAT\n"
     ]
    }
   ],
   "source": [
    "main('16input')"
   ],
   "metadata": {
    "collapsed": false,
    "pycharm": {
     "name": "#%%\n"
    }
   }
  },
  {
   "cell_type": "markdown",
   "source": [
    "These methods take a DNA sequence and a peptide, both as strings, and return all substrings of codons in the\n",
    "sequence that could encode for the given peptide."
   ],
   "metadata": {
    "collapsed": false
   }
  }
 ],
 "metadata": {
  "kernelspec": {
   "display_name": "Python 3",
   "language": "python",
   "name": "python3"
  },
  "language_info": {
   "codemirror_mode": {
    "name": "ipython",
    "version": 2
   },
   "file_extension": ".py",
   "mimetype": "text/x-python",
   "name": "python",
   "nbconvert_exporter": "python",
   "pygments_lexer": "ipython2",
   "version": "2.7.6"
  }
 },
 "nbformat": 4,
 "nbformat_minor": 0
}