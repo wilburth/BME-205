{
 "cells": [
  {
   "cell_type": "markdown",
   "metadata": {},
   "source": [
    "### Problem 16\n",
    "    Find substrings of a genome encoding a given amino acid sequence.\n",
    "\n",
    "    Given: A DNA string Text and an amino acid string Peptide.\n",
    "\n",
    "    Return: All substrings of Text encoding Peptide (if any such substrings exist)."
   ]
  },
  {
   "cell_type": "code",
   "execution_count": 93,
   "metadata": {},
   "outputs": [],
   "source": [
    "class PeptideEncoding():\n",
    "    \"\"\"\n",
    "    A class to find substrings of a genome encoding a given amino acid sequence.\n",
    "\n",
    "    ...\n",
    "\n",
    "    Attributes\n",
    "    ----------\n",
    "    strand : str\n",
    "        dna strand\n",
    "    peptide : str\n",
    "        amino acid sequence\n",
    "    table : dict\n",
    "        keys are codons and values are amino acid\n",
    "\n",
    "    Methods\n",
    "    -------\n",
    "    reversedStrand(strand):\n",
    "        return the reverse complement strand\n",
    "    findSubstrings:\n",
    "        find the substrings from both strands\n",
    "    \"\"\"\n",
    "\n",
    "    def __init__(self,infile):  \n",
    "        '''\n",
    "        contructor: saves attributes \n",
    "        \n",
    "        Parameters\n",
    "        ----------\n",
    "            infile : file name\n",
    "                \n",
    "        '''\n",
    "        with open(infile) as file:#read file here\n",
    "            self.strand=file.readline().rstrip() #the first line is strand\n",
    "            self.peptide=file.readline().rstrip() #the second line is the amino acid sequence\n",
    "        self.table={\n",
    "        'ATA':'I', 'ATC':'I', 'ATT':'I', 'ATG':'M',\n",
    "        'ACA':'T', 'ACC':'T', 'ACG':'T', 'ACT':'T',\n",
    "        'AAC':'N', 'AAT':'N', 'AAA':'K', 'AAG':'K',\n",
    "        'AGC':'S', 'AGT':'S', 'AGA':'R', 'AGG':'R',                \n",
    "        'CTA':'L', 'CTC':'L', 'CTG':'L', 'CTT':'L',\n",
    "        'CCA':'P', 'CCC':'P', 'CCG':'P', 'CCT':'P',\n",
    "        'CAC':'H', 'CAT':'H', 'CAA':'Q', 'CAG':'Q',\n",
    "        'CGA':'R', 'CGC':'R', 'CGG':'R', 'CGT':'R',\n",
    "        'GTA':'V', 'GTC':'V', 'GTG':'V', 'GTT':'V',\n",
    "        'GCA':'A', 'GCC':'A', 'GCG':'A', 'GCT':'A',\n",
    "        'GAC':'D', 'GAT':'D', 'GAA':'E', 'GAG':'E',\n",
    "        'GGA':'G', 'GGC':'G', 'GGG':'G', 'GGT':'G',\n",
    "        'TCA':'S', 'TCC':'S', 'TCG':'S', 'TCT':'S',\n",
    "        'TTC':'F', 'TTT':'F', 'TTA':'L', 'TTG':'L',\n",
    "        'TAC':'Y', 'TAT':'Y', 'TAA':'_', 'TAG':'_',\n",
    "        'TGC':'C', 'TGT':'C', 'TGA':'_', 'TGG':'W',\n",
    "        }\n",
    "\n",
    "    def reversedStrand(self,strand):\n",
    "        \"\"\"\n",
    "        Generate the reverse complement strand of the given strand\n",
    "        \n",
    "        Parameters\n",
    "        ----------\n",
    "        string:str\n",
    "            The DNA strand\n",
    "        \"\"\"\n",
    "        reversedStrand=''\n",
    "        strandTable={'A':'T','C':'G','G':'C','T':'A'} #store the transformation table in a dict\n",
    "        for i in strand:\n",
    "            reversedStrand+=strandTable[i]\n",
    "        return reversedStrand[::-1] #the reverse complement read from reverse order\n",
    "\n",
    "    def findSubstrings(self):\n",
    "        \"\"\"\n",
    "        Generate condon lists for the 6 reading frame of a DNA\n",
    "        \"\"\"\n",
    "        dna = self.strand  # the given strand \n",
    "        dnaSubString = []\n",
    "        lenPeptide=len(self.peptide) #calculate the length of amino acid sequence\n",
    "        lenSubString=3*lenPeptide #calculate the length of the prospective subsequence that encodes the peptides\n",
    "        allSubStrings=[] #save all the substrings that encodes the given peptide\n",
    "        \n",
    "        #--------------------------here we find substrings from the given strand----------------------------#\n",
    "        for i in range(3):# there are 3 reading frames            \n",
    "            for j in range(i, len(dna) - lenSubString+1, 3): #generate all posible substrings\n",
    "                substring=self.strand[j:j+lenSubString]\n",
    "                subPeptide='' #initialize the subPeptide encoded by the substring\n",
    "                for p in range(0,lenSubString,3)#codons have length of 3\n",
    "                    subPeptide+=self.table[substring[p:p+3]] #append codons to the subPeptide          \n",
    "                if subPeptide==self.peptide: #if the subPeptide equals the given peptide                   \n",
    "                    allSubStrings.append(substring)\n",
    "        #--------------------------here we find substrings from the given strand----------------------------#\n",
    "        \n",
    "        #-----------------------here we find substrings from the reverse complement--------------------------#\n",
    "        for i in range(3):# there are 3 reading frames            \n",
    "            for j in range(i, len(dna) - lenSubString+1, 3):#generate all posible substrings\n",
    "                substring=self.reversedStrand(self.strand)[j:j+lenSubString]\n",
    "                subPeptide=''#initialize the subPeptide encoded by the substring\n",
    "                for p in range(0,lenSubString,3):#codons have length of 3\n",
    "                    subPeptide+=self.table[substring[p:p+3]] #append codons to the subPeptide \n",
    "                if subPeptide==self.peptide: #if the subPeptide equals the given peptide                   \n",
    "                    allSubStrings.append(self.reversedStrand(substring))  \n",
    "        #-----------------------here we find substrings from the reverse complement--------------------------#\n",
    "        return allSubStrings    \n",
    "    "
   ]
  },
  {
   "cell_type": "markdown",
   "metadata": {},
   "source": [
    "### Main"
   ]
  },
  {
   "cell_type": "code",
   "execution_count": 103,
   "metadata": {},
   "outputs": [],
   "source": [
    "def main(infile):\n",
    "    '''\n",
    "    Implement the motif search program\n",
    "    \n",
    "    Parameters\n",
    "        ----------\n",
    "        infile : str \n",
    "            the filename of the fasta file\n",
    "\n",
    "        Returns\n",
    "        -------\n",
    "        STDOUT\n",
    "    '''\n",
    "    peptideEncoding=PeptideEncoding(infile) #instantiation\n",
    "    subStrings=peptideEncoding.findSubstrings()\n",
    "    for i in subStrings:\n",
    "        print(i)"
   ]
  },
  {
   "cell_type": "markdown",
   "metadata": {},
   "source": [
    "### Run the program here"
   ]
  },
  {
   "cell_type": "code",
   "execution_count": 105,
   "metadata": {},
   "outputs": [
    {
     "name": "stdout",
     "output_type": "stream",
     "text": [
      "TGTTTCAGGATGGCCGGGTCGTAT\n",
      "TGCTTCCGGATGGCGGGTTCGTAC\n",
      "TGTTTTCGTATGGCAGGATCCTAC\n",
      "TGTTTCAGAATGGCAGGGTCATAT\n",
      "TGTTTCCGTATGGCAGGCTCATAT\n",
      "TGTTTCCGTATGGCAGGGAGCTAT\n",
      "TGTTTCAGGATGGCGGGGTCGTAC\n",
      "TGCTTTCGCATGGCCGGTAGCTAT\n",
      "TGCTTTAGGATGGCAGGTAGTTAT\n",
      "TGCTTCAGAATGGCAGGGTCGTAC\n",
      "GTAAGAGCCAGCCATCCGGAAGCA\n",
      "ATAGGATCCGGCCATCCTAAAACA\n",
      "GTATGACCCCGCCATCCGGAAACA\n",
      "GTACGAGCCTGCCATCCGAAAGCA\n",
      "ATAAGATCCTGCCATCCGGAAACA\n",
      "ATAGCTACCCGCCATCCGGAAACA\n",
      "ATAAGAACCCGCCATCCGGAAGCA\n",
      "ATAAGAGCCAGCCATCCGAAAGCA\n",
      "GTATGAGCCTGCCATTCGGAAACA\n",
      "ATAAGACCCAGCCATCCGGAAGCA\n"
     ]
    }
   ],
   "source": [
    "if __name__ == \"__main__\":\n",
    "    main('rosalind_ba4b.txt')"
   ]
  },
  {
   "cell_type": "markdown",
   "metadata": {},
   "source": [
    "### Inspection"
   ]
  }
 ],
 "metadata": {
  "kernelspec": {
   "display_name": "Python 3",
   "language": "python",
   "name": "python3"
  },
  "language_info": {
   "codemirror_mode": {
    "name": "ipython",
    "version": 3
   },
   "file_extension": ".py",
   "mimetype": "text/x-python",
   "name": "python",
   "nbconvert_exporter": "python",
   "pygments_lexer": "ipython3",
   "version": "3.8.5"
  }
 },
 "nbformat": 4,
 "nbformat_minor": 4
}
