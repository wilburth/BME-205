{
 "cells": [
  {
   "cell_type": "code",
   "execution_count": 1,
   "metadata": {
    "collapsed": true,
    "pycharm": {
     "name": "#%%#%%\n"
    }
   },
   "outputs": [
    {
     "name": "stdout",
     "output_type": "stream",
     "text": [
      "0 57 101 101 103 103 103 113 114 115 128 147 156 158 163 186 186 204 204 215 216 217 218 259 261 275 276 289 289 299 305 314 318 319 319 319 330 332 373 376 402 408 417 420 422 432 433 433 433 461 462 474 475 477 518 523 534 535 536 536 536 564 565 588 589 591 603 618 619 621 624 637 637 649 651 692 694 716 721 721 722 722 738 750 750 751 752 752 793 807 824 825 835 837 841 850 855 863 865 866 879 907 908 920 936 938 938 940 956 968 969 997 1010 1011 1013 1021 1026 1035 1039 1041 1051 1052 1069 1083 1124 1124 1125 1126 1126 1138 1154 1154 1155 1155 1160 1182 1184 1225 1227 1239 1239 1252 1255 1257 1258 1273 1285 1287 1288 1311 1312 1340 1340 1340 1341 1342 1353 1358 1399 1401 1402 1414 1415 1443 1443 1443 1444 1454 1456 1459 1468 1474 1500 1503 1544 1546 1557 1557 1557 1558 1562 1571 1577 1587 1587 1600 1601 1615 1617 1658 1659 1660 1661 1672 1672 1690 1690 1713 1718 1720 1729 1748 1761 1762 1763 1773 1773 1773 1775 1775 1819 1876 \n"
     ]
    }
   ],
   "source": [
    "def genSubStrings(string):\n",
    "    '''\n",
    "    Generates a list of all substrings in an input string, assumes string is cyclic\n",
    "    :param string: A string\n",
    "    :return: subStrings: list of substrings in string\n",
    "    '''\n",
    "    cylicString = string+string # handles the overlap in the cyclic peptide\n",
    "    subStrings = []\n",
    "    for i in range(len(string)): # iterates over the peptide finding all substrings\n",
    "        for j in range(1,len(string)):\n",
    "            subStrings.append(cylicString[i:i+j])\n",
    "\n",
    "    return subStrings\n",
    "\n",
    "def genCycloSpectrum(subStrings):\n",
    "    '''\n",
    "    Generates the spectrum of masses of a given cyclic peptide\n",
    "    :param subStrings: list of substrings of a peptide\n",
    "    :return: list of weights of all substrings\n",
    "    '''\n",
    "    aa2weight =  {'G':57,'A':71,'S':87,'P':97,'V':99,'T':101,'C':103,'I':113,'L':113,'N':114,\n",
    "                  'D':115,'K':128,'Q':128,'E':129,'M':131,'H':137,'F':147,'R':156,\n",
    "                  'Y':163,'W':186}\n",
    "    spectrum = []\n",
    "    for fragment in subStrings: # iterates through all substrings\n",
    "        intWeight = 0\n",
    "        for peptide in fragment: # calculates weight of substring\n",
    "            intWeight += aa2weight[peptide]\n",
    "        spectrum.append(intWeight) # stores calculated weight\n",
    "    spectrum.sort()\n",
    "\n",
    "    return spectrum\n",
    "\n",
    "def main(fName):\n",
    "    '''\n",
    "    Handles input and output, runs genCycleSpectrum and genSubStrings\n",
    "    :param fName:\n",
    "    :return:\n",
    "    '''\n",
    "    with open(fName) as inFile:\n",
    "        lines =  inFile.readlines()\n",
    "        peptide = lines[0].strip()\n",
    "\n",
    "    subStrings = genSubStrings(peptide)\n",
    "    subStrings.append('')\n",
    "    subStrings.append(peptide)\n",
    "    spectrum = genCycloSpectrum(subStrings)\n",
    "    toPrint = ''\n",
    "    for weight in spectrum:\n",
    "        toPrint += str(weight) + ' '\n",
    "    print(toPrint)\n",
    "\n",
    "if __name__ == '__main__':\n",
    "    main(fName='')"
   ]
  },
  {
   "cell_type": "markdown",
   "source": [
    "These functions calculate the theoretical spectrum of a given cyclic peptide."
   ],
   "metadata": {
    "collapsed": false
   }
  }
 ],
 "metadata": {
  "kernelspec": {
   "display_name": "Python 3",
   "language": "python",
   "name": "python3"
  },
  "language_info": {
   "codemirror_mode": {
    "name": "ipython",
    "version": 2
   },
   "file_extension": ".py",
   "mimetype": "text/x-python",
   "name": "python",
   "nbconvert_exporter": "python",
   "pygments_lexer": "ipython2",
   "version": "2.7.6"
  }
 },
 "nbformat": 4,
 "nbformat_minor": 0
}