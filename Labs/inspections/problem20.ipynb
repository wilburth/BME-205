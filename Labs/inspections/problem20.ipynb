{
 "cells": [
  {
   "cell_type": "code",
   "execution_count": 1,
   "metadata": {
    "collapsed": true
   },
   "outputs": [
    {
     "ename": "IndexError",
     "evalue": "list index out of range",
     "output_type": "error",
     "traceback": [
      "\u001B[1;31m---------------------------------------------------------------------------\u001B[0m",
      "\u001B[1;31mIndexError\u001B[0m                                Traceback (most recent call last)",
      "\u001B[1;32m~\\AppData\\Local\\Temp/ipykernel_6060/1749546575.py\u001B[0m in \u001B[0;36m<module>\u001B[1;34m\u001B[0m\n\u001B[0;32m     49\u001B[0m \u001B[1;33m\u001B[0m\u001B[0m\n\u001B[0;32m     50\u001B[0m \u001B[1;32mif\u001B[0m \u001B[0m__name__\u001B[0m \u001B[1;33m==\u001B[0m \u001B[1;34m'__main__'\u001B[0m\u001B[1;33m:\u001B[0m\u001B[1;33m\u001B[0m\u001B[1;33m\u001B[0m\u001B[0m\n\u001B[1;32m---> 51\u001B[1;33m     \u001B[0mmain\u001B[0m\u001B[1;33m(\u001B[0m\u001B[1;34m'problem20in.txt'\u001B[0m\u001B[1;33m)\u001B[0m\u001B[1;33m\u001B[0m\u001B[1;33m\u001B[0m\u001B[0m\n\u001B[0m\u001B[0;32m     52\u001B[0m \u001B[1;33m\u001B[0m\u001B[0m\n",
      "\u001B[1;32m~\\AppData\\Local\\Temp/ipykernel_6060/1749546575.py\u001B[0m in \u001B[0;36mmain\u001B[1;34m(fName)\u001B[0m\n\u001B[0;32m     36\u001B[0m         \u001B[1;31m# They generate the transition matrix from the given input\u001B[0m\u001B[1;33m\u001B[0m\u001B[1;33m\u001B[0m\u001B[1;33m\u001B[0m\u001B[0m\n\u001B[0;32m     37\u001B[0m         \u001B[1;32mfor\u001B[0m \u001B[0mi\u001B[0m \u001B[1;32min\u001B[0m \u001B[0mrange\u001B[0m\u001B[1;33m(\u001B[0m\u001B[0mlen\u001B[0m\u001B[1;33m(\u001B[0m\u001B[0mstates\u001B[0m\u001B[1;33m)\u001B[0m\u001B[1;33m)\u001B[0m\u001B[1;33m:\u001B[0m\u001B[1;33m\u001B[0m\u001B[1;33m\u001B[0m\u001B[0m\n\u001B[1;32m---> 38\u001B[1;33m             \u001B[0mrow\u001B[0m \u001B[1;33m=\u001B[0m \u001B[0mlines\u001B[0m\u001B[1;33m[\u001B[0m\u001B[1;36m9\u001B[0m\u001B[1;33m+\u001B[0m\u001B[0mi\u001B[0m\u001B[1;33m]\u001B[0m\u001B[1;33m.\u001B[0m\u001B[0mstrip\u001B[0m\u001B[1;33m(\u001B[0m\u001B[1;33m)\u001B[0m\u001B[1;33m.\u001B[0m\u001B[0msplit\u001B[0m\u001B[1;33m(\u001B[0m\u001B[1;33m)\u001B[0m\u001B[1;33m\u001B[0m\u001B[1;33m\u001B[0m\u001B[0m\n\u001B[0m\u001B[0;32m     39\u001B[0m \u001B[1;33m\u001B[0m\u001B[0m\n\u001B[0;32m     40\u001B[0m             \u001B[0mrowDictionary\u001B[0m \u001B[1;33m=\u001B[0m \u001B[1;33m{\u001B[0m\u001B[1;33m}\u001B[0m\u001B[1;33m\u001B[0m\u001B[1;33m\u001B[0m\u001B[0m\n",
      "\u001B[1;31mIndexError\u001B[0m: list index out of range"
     ]
    }
   ],
   "source": [
    "class HMM():\n",
    "    def __init__(self, emitMatrix):\n",
    "        '''\n",
    "\n",
    "        :param transMatrix: Nested dictionary representing a transition matrix\n",
    "        key:value --> state: RowDictionary\n",
    "        Where RowDictionary is a dictionary that represents a single row in the matrix.\n",
    "        key:value --> state: transition pr\n",
    "        '''\n",
    "        self.emitMatrix = emitMatrix\n",
    "\n",
    "    def prPathGivenEmmision(self, path,emission):\n",
    "        '''\n",
    "        Finds the probability of path, path is a string that represents the hidden path of an HMM\n",
    "        :return: PR(path) as an int\n",
    "        '''\n",
    "        pr = 1\n",
    "        for i in range(len(path)):\n",
    "            pr *= self.emitMatrix[path[i]][emission[i]]\n",
    "\n",
    "        return pr\n",
    "\n",
    "def main(fName=''):\n",
    "    '''\n",
    "    Handles input/output. Generates transition matrix and path from input data and\n",
    "    runs prPath to find the probability of the given path\n",
    "    '''\n",
    "    with open(fName) as inFile:\n",
    "        lines = inFile.readlines()\n",
    "        path = lines[0].strip()\n",
    "        states = lines[2].strip().split()\n",
    "\n",
    "        emitMatrix = {}\n",
    "\n",
    "        # Generate the transition matrix from the given input\n",
    "        for i in range(len(states)):\n",
    "            row = lines[9+i].strip().split()\n",
    "\n",
    "            rowDictionary = {}\n",
    "            for j in range(len(states)):\n",
    "                rowDictionary[states[j]] = float(row[j+1])\n",
    "            emitMatrix[row[0]] = rowDictionary\n",
    "\n",
    "\n",
    "    hmm = HMM(emitMatrix)\n",
    "    print(hmm.prPath(path))\n",
    "\n",
    "\n",
    "if __name__ == '__main__':\n",
    "    main('problem20in.txt')"
   ]
  },
  {
   "cell_type": "markdown",
   "source": [
    "Probability of an Outcome Given a Hidden Path Problem\n",
    "\n",
    "Given: A string x, followed by the alphabet Σ from which x was constructed, followed by a hidden path π, followed by the states States and emission matrix Emission of an HMM (Σ, States, Transition, Emission).\n",
    "\n",
    "Return: The conditional probability Pr(x|π) that string x will be emitted by the HMM given the hidden path π."
   ],
   "metadata": {
    "collapsed": false
   }
  }
 ],
 "metadata": {
  "kernelspec": {
   "display_name": "Python 3",
   "language": "python",
   "name": "python3"
  },
  "language_info": {
   "codemirror_mode": {
    "name": "ipython",
    "version": 2
   },
   "file_extension": ".py",
   "mimetype": "text/x-python",
   "name": "python",
   "nbconvert_exporter": "python",
   "pygments_lexer": "ipython2",
   "version": "2.7.6"
  }
 },
 "nbformat": 4,
 "nbformat_minor": 0
}