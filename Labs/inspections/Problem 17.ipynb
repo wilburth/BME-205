{
 "cells": [
  {
   "cell_type": "markdown",
   "metadata": {},
   "source": [
    "### Problem 17\n",
    "Generate the theoretical spectrum of a cyclic peptide.\n",
    "\n",
    "Given: An amino acid string Peptide.\n",
    "\n",
    "Return: Cyclospectrum(Peptide)."
   ]
  },
  {
   "cell_type": "code",
   "execution_count": 40,
   "metadata": {},
   "outputs": [],
   "source": [
    "class Cyclospectrum():\n",
    "    \"\"\"\n",
    "    A class to generate the theoretical spectrum of a cyclic peptide.\n",
    "\n",
    "    ...\n",
    "\n",
    "    Attributes\n",
    "    ----------\n",
    "    peptide : str\n",
    "        amino acid sequence\n",
    "    weight : dict\n",
    "        keys are amino acids and values are weight\n",
    "\n",
    "    Methods\n",
    "    -------\n",
    "    generateSubPeptide(peptide):\n",
    "        return all the SubPeptide of a cyclic peptide\n",
    "    generateSpectrum:\n",
    "        generate Spectrum for the cyclic peptide\n",
    "    \"\"\"\n",
    "    def __init__(self,infile):\n",
    "        '''\n",
    "        contructor: saves attributes \n",
    "        \n",
    "        Parameters\n",
    "        ----------\n",
    "            infile : file name\n",
    "                \n",
    "        '''\n",
    "        with open(infile) as file:\n",
    "            self.peptide=file.read().strip()\n",
    "        self.weight={\n",
    "            'G':57, 'A':71, 'S':87, 'P':97, 'V':99, 'T':101, 'C':103, 'I':113,\n",
    "            'L':113, 'N':114, 'D':115, 'K':128, 'Q':128, 'E':129, 'M':131,\n",
    "            'H':137, 'F':147, 'R':156, 'Y':163, 'W':186\n",
    "        }\n",
    "        \n",
    "    def generateSubPeptide(self,peptide):\n",
    "        \"\"\"\n",
    "        Generate the SubPeptide for a peptide\n",
    "        \n",
    "        Parameters\n",
    "        ----------\n",
    "        peptide:str\n",
    "            The cyclic peptide\n",
    "        \n",
    "        Return\n",
    "        ----------\n",
    "        subPeptides:list\n",
    "        \"\"\"\n",
    "        cicPeptide=peptide+peptide[:len(peptide)-1] #to mimic a cyclic peptide, we entend some amino acids to the end\n",
    "        subPeptides=[] #save all the subPeptides\n",
    "        for i in range(1,len(peptide)): #generate subpeptides for all length\n",
    "            for j in range(len(peptide)): #just like generate kmer, j is the start position\n",
    "                subPeptides.append(cicPeptide[j:j+i])\n",
    "        subPeptides.append(peptide) #we finally add the complete peptide to the list\n",
    "        return subPeptides\n",
    "    \n",
    "    def generateSpectrum(self):\n",
    "        \"\"\"\n",
    "        Generate the masses of subpeptides \n",
    "       \n",
    "        Return\n",
    "        ----------\n",
    "        masses:list\n",
    "        \"\"\"\n",
    "        subPeptides=self.generateSubPeptide(self.peptide) #generate subpeptides\n",
    "        masses=[0] #masses for all subpeptides including 0\n",
    "        mass=0 #initialize\n",
    "        for p in subPeptides: #p stands for subpeptide\n",
    "            for a in p: #a stands for amino acid\n",
    "                mass+=self.weight[a] #mass for a subpeptide\n",
    "            masses.append(mass)\n",
    "            mass=0\n",
    "        return masses\n",
    "        "
   ]
  },
  {
   "cell_type": "markdown",
   "metadata": {},
   "source": [
    "### Main"
   ]
  },
  {
   "cell_type": "code",
   "execution_count": 52,
   "metadata": {},
   "outputs": [],
   "source": [
    "def main(infile):\n",
    "    '''\n",
    "    Implement the motif search program\n",
    "    \n",
    "    Parameters\n",
    "        ----------\n",
    "        infile : str \n",
    "            the filename of the fasta file\n",
    "\n",
    "        Returns\n",
    "        -------\n",
    "        STDOUT\n",
    "    '''\n",
    "    cyclospectrum=Cyclospectrum(infile) #instantiation\n",
    "    masses=cyclospectrum.generateSpectrum()\n",
    "    for i in masses:\n",
    "        print(i,end=\"\\t\")"
   ]
  },
  {
   "cell_type": "markdown",
   "metadata": {},
   "source": [
    "### Run the program"
   ]
  },
  {
   "cell_type": "code",
   "execution_count": 54,
   "metadata": {},
   "outputs": [
    {
     "name": "stdout",
     "output_type": "stream",
     "text": [
      "0\t137\t186\t128\t97\t128\t113\t103\t97\t71\t57\t113\t186\t323\t314\t225\t225\t241\t216\t200\t168\t128\t170\t299\t323\t451\t411\t353\t338\t344\t313\t271\t225\t241\t356\t436\t509\t548\t539\t466\t441\t441\t384\t328\t338\t427\t493\t622\t637\t676\t652\t569\t538\t512\t441\t441\t524\t564\t679\t750\t734\t789\t755\t666\t609\t569\t554\t627\t661\t750\t807\t847\t862\t892\t852\t737\t666\t682\t740\t764\t847\t878\t904\t975\t975\t989\t923\t794\t779\t868\t877\t950\t975\t975\t1032\t1088\t1078\t1060\t980\t907\t965\t1005\t1063\t1078\t1072\t1103\t1145\t1191\t1175\t1117\t1093\t1093\t1102\t1191\t1191\t1175\t1200\t1216\t1248\t1288\t1246\t1230\t1279\t1230\t1288\t1319\t1288\t1303\t1313\t1319\t1345\t1359\t1303\t1416\t"
     ]
    }
   ],
   "source": [
    "if __name__ == \"__main__\":\n",
    "    main('rosalind_ba4c.txt')"
   ]
  },
  {
   "cell_type": "markdown",
   "metadata": {},
   "source": [
    "### Inspection"
   ]
  },
  {
   "cell_type": "code",
   "execution_count": null,
   "metadata": {},
   "outputs": [],
   "source": []
  }
 ],
 "metadata": {
  "kernelspec": {
   "display_name": "Python 3",
   "language": "python",
   "name": "python3"
  },
  "language_info": {
   "codemirror_mode": {
    "name": "ipython",
    "version": 3
   },
   "file_extension": ".py",
   "mimetype": "text/x-python",
   "name": "python",
   "nbconvert_exporter": "python",
   "pygments_lexer": "ipython3",
   "version": "3.8.5"
  }
 },
 "nbformat": 4,
 "nbformat_minor": 4
}
