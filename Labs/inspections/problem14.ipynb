{
 "cells": [
  {
   "cell_type": "code",
   "execution_count": 22,
   "metadata": {
    "collapsed": true
   },
   "outputs": [],
   "source": [
    "class Node():\n",
    "    def __init__(self, inEdges, outEdges, label):\n",
    "        self.inEdges = inEdges\n",
    "        self.outEdges = outEdges\n",
    "        self.label = label\n",
    "\n",
    "class DirectedGraph():\n",
    "    def __init__(self,dirGraph):\n",
    "        self.paths = []\n",
    "        self.startNodes = []\n",
    "        self.dirGraph = dirGraph\n",
    "\n",
    "        self.nodes = self.genNodes(dirGraph)\n",
    "\n",
    "\n",
    "\n",
    "    def genNodes(self, dirGraph):\n",
    "        nodes = {} #dictionary of nodes, where the key is the nodes label and the value is the corresponding Node object\n",
    "        for key,value in dirGraph.items():\n",
    "            if key not in nodes:\n",
    "                nodes[key] = Node([], dirGraph[key],key)\n",
    "            else:\n",
    "                for edge in value:\n",
    "                    nodes[key].outEdges.append(edge)\n",
    "            for edge in value:\n",
    "                if edge not in nodes:\n",
    "                    nodes[edge] = Node([key],[],edge)\n",
    "                else:\n",
    "                    nodes[edge].inEdges.append(key)\n",
    "        return nodes\n",
    "\n",
    "\n",
    "    def findEulerPath(self):\n",
    "        path = []\n",
    "        start = Node([],[],'')\n",
    "        for node in self.nodes.values():\n",
    "            if len(node.inEdges) + 1 == len(node.outEdges):\n",
    "                start = node\n",
    "\n",
    "        if start.label == '':\n",
    "            quit('No Eulerian Path')\n",
    "\n",
    "        stack = [start]\n",
    "        while len(stack) > 0:\n",
    "            if len(stack[-1].outEdges) > 0:\n",
    "                stack.append(self.nodes[stack[-1].outEdges[0]])\n",
    "                stack[-2].outEdges.pop(0)\n",
    "            else:\n",
    "                path.append(stack.pop(-1))\n",
    "        return path[::-1]\n",
    "\n",
    "def deBrujin(kmers):\n",
    "    deBrujinDict = {}\n",
    "\n",
    "    for kmer in kmers:\n",
    "        if kmer[:-1] in deBrujinDict:\n",
    "            deBrujinDict[kmer[:-1]].append(kmer[1:])\n",
    "        else:\n",
    "            deBrujinDict[kmer[:-1]] = [kmer[1:]]\n",
    "\n",
    "    return deBrujinDict\n",
    "\n",
    "def main(fName):\n",
    "    if fName == '':\n",
    "        return\n",
    "    else:\n",
    "        with open(fName) as inFile:\n",
    "            lines = inFile.readlines()\n",
    "            k = int(lines[0])\n",
    "            kmers = []\n",
    "            for line in lines[1:]:\n",
    "                kmers.append(line.strip())\n",
    "    dict = deBrujin(kmers)\n",
    "    graph = DirectedGraph(dict)\n",
    "    seqList = graph.findEulerPath()\n",
    "\n",
    "    seq = seqList.pop(0).label\n",
    "    for node in seqList:\n",
    "        seq += node.label[-1]\n",
    "    print(seq)\n",
    "\n",
    "if __name__ == '__main__':\n",
    "    main(fName='')"
   ]
  },
  {
   "cell_type": "code",
   "execution_count": 23,
   "outputs": [
    {
     "name": "stdout",
     "output_type": "stream",
     "text": [
      "CCTTACCCGTGCCGTTGATTCACACGTCCCATACCCCTCGACTGTGGGGTGCCTAGTGTTGGAGTAGTAACTGGACGACAACTCCGGCCTCAAACATTCGTGTGTCGACAGTTTCTAATAGCGCCCAGATGCCCCTGATGGGTTCCTGCGAACTCAGCATGTAAGCGCCGCCATGAGTGTAGAAGCATGGGTGGCACCGTCGAGCTGGCGGTGGGTAAGGTCAACCTCATTCAATAATCACAGCTAGGAACACGGGCAAGCTGAGTTCGGGGCAGGAGTAGAGGGCGATATCCGGTCGATCCCTGCCCAGCAAATAAAAGCACTGTTCCACTCCATTAAAACGGCAGCACTGATCCGCAAGTCGATGACTACGTGAAGCGTCATGGGCTACGTGTTCGCACCCTAGAGGGATAACTAGAATACTTTTATCTCGTCGGACGGTCTAGGCCGCGTAGTGGGTATATCCGCTCCACGATCTGTACACTTACAGTCGCCCTTAATGTTAGGTAGCCCCTCGTCGTTTAGTGTCCCTTAAAGACTCATCTGGGTATGACTCTCCATTTGTCGAGCTCCACCTAACTTAGAGATCTCGGGACTACAACTATATTTTCCCTGTGTAGACAACATGTGATGCTTCCGCTTGTCCAACGGTCGACCGATATGCACAATAAGAAGACGCTGCTCTCATTTATGGACTTTCGTTTATGCCCCGCTCCGAGTGCCCTTAACTCTCGTGTGATACTCAAACCCAACTGGTGAGCTTTATGCGACCCGTTTTCGCTACAATCGGCCCTGGCCCCTGACTCATTACGGTGGGATTCCGACATTCTCACCACAGGGGGCCGAGGACCCTTTCTGGTTGCCCAGCCGGGTATGCTGTAGTAACGGTGGGTTTGAGTTATTTCTGGCTAATCCTGTACACTTTACAGGTTACCCCACAGGCGGCAAATATATGGTGGTCGCCCGCGCTCCCATGTAAAATGGTTGGGCTTCTGAACATGAACAGGTGCGCAACACTCGGAAGCAGTTAGTGGAGAGAAATGTCGATTTACCGGTGTTACCCGCCCAAGCTAACCAAGCCGTGTGCCCCTGCCCCTCTCCTTGGCCTCTCGTGGGCGGCGCTCTATATCTCCGTGAGAAATCCAAAAAGGTGTAGACGATAGATTTGCTATGGCGCCCCTTAATTCCGGCACACCTGAAGTTGCAAACCAAGGTAGCCAGTGCTAAAAGCGGTGGACTGGGCGTACGGGAAAGCTAGAGCACTACCAATCACGGCGACGATAATAAACTGATCCCTTTCTAGCATGAAGACTGCGCTCAGCAATCTGCTAGTTTGCGATACATGGATGATGGAGACTGTCAAGAGCCTTTGAGTGGCCTCCTGCAGACTCAGCTCGTATACTACCGTAGGCGTCGGTTATAAAGCAGCCAGATTTAGTGTTACCAGAGCAGTAGGAGATTGGAGCGTGTCGATCACTAATGAACTGGGGTCAGCGAGCTGACAGTGGGGCCCAGCATAGTGCACGGCAGCGGGACTCGGCTTCCTACTAAACGCCTTCGCTACGGTCCCCCTCCTGTATAGAGCCCCTCATCTATCTTGCGCAAAACGGCGACCGCGCAGGTGTTCGGCGGGCCTCCGCCCGAACGTGTTTAAATGACGTTGGCGCCCATTGCTGCCGCACCTTCCACATACATTGCTGTTTCGGAGGTTAAGTGGAGCCCTCTCGACCTGGCTTCCTGCGTACTCACCCGTGCGTTTAAGCATCCTTAAAGGTACCTTTTATCCTGTTGTGCGACTACAGCTCTATCGGTCTGGCACTACAGTACATTGGGATCTCTCAAGGTTCGTTGAGTATCTCTCGGGGATGCGTGCGAAAATATGTGTGGTTAATTGCTTAGGGGCCGTCATTCTACCGTTTCGGTTAGGGCTTCGTCTACTTAATCCGTATAGAACCGAAGCGAGTCATCGACTAAGAAGTCCAAGCGTACACAATTACCCACGCGCTTGTGCAGATGGCCATGCTTCAATAGTCTCGACACCAGATGGGAATTCCACGATAGTCGCTTCCGCTTCAACGTAGGTCACAATCCCCGACCACTCTGATAGGGATTTTCTTCTGGTGGCAGAGCAAGCGGCTTTGCTCGCGTCGTAAACGCTTCAATGAGGAGCGGAACGCATAGTGTATTGCCAATCAGATCTCCCTAAAAGTTCTGACTAAGGAAGTGAGCTGCTGTCCGTG\n"
     ]
    }
   ],
   "source": [
    "main('rosalind_ba3h.txt')"
   ],
   "metadata": {
    "collapsed": false,
    "pycharm": {
     "name": "#%%\n"
    }
   }
  }
 ],
 "metadata": {
  "kernelspec": {
   "display_name": "Python 3",
   "language": "python",
   "name": "python3"
  },
  "language_info": {
   "codemirror_mode": {
    "name": "ipython",
    "version": 2
   },
   "file_extension": ".py",
   "mimetype": "text/x-python",
   "name": "python",
   "nbconvert_exporter": "python",
   "pygments_lexer": "ipython2",
   "version": "2.7.6"
  }
 },
 "nbformat": 4,
 "nbformat_minor": 0
}