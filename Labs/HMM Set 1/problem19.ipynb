{
 "cells": [
  {
   "cell_type": "code",
   "execution_count": 1,
   "metadata": {
    "collapsed": true
   },
   "outputs": [
    {
     "name": "stdout",
     "output_type": "stream",
     "text": [
      "2.0777937919245553e-23\n"
     ]
    }
   ],
   "source": [
    "class HMM:\n",
    "    '''\n",
    "    class HMM contains the methods required to calculate the probability of a hidden path in an HMM\n",
    "    '''\n",
    "\n",
    "    def __init__(self, transitionMatrix):\n",
    "        '''\n",
    "        initialize necessary vars\n",
    "        '''\n",
    "\n",
    "        self.transMatrix = transitionMatrix\n",
    "\n",
    "    def hiddenPathProb(self, path, transition):\n",
    "        '''\n",
    "        calculates the probability of the hidden path in an HMM\n",
    "        '''\n",
    "\n",
    "        probability = 1/len(transition)\n",
    "        for i in range(len(path) - 1):\n",
    "            x = path[i]\n",
    "            y = path[i + 1]\n",
    "            # https://imgur.com/a/6luJYtg -- formula\n",
    "            probability *= transition[x][y]\n",
    "\n",
    "        return probability\n",
    "\n",
    "\n",
    "def main(inFile=None):\n",
    "    '''\n",
    "    reads from input file, initializes transition matrix into class HMM + calls method to calculate the probability\n",
    "    of the hidden path from the HMM transition matrix\n",
    "    '''\n",
    "\n",
    "    transition = {}\n",
    "    with open(inFile) as inFile:\n",
    "        lines = inFile.readlines()\n",
    "        path = lines[0].strip()\n",
    "        states = lines[2].strip().split()\n",
    "        columns = lines[4].strip().split()\n",
    "\n",
    "        # used Mikeys way of reading in -- was having a lot of trouble with\n",
    "        # creating the actual transition matrix (for state in states couldn't manipulate properly)\n",
    "        # but using the for i in range of the length of states and then the 5+i to get lines 7\n",
    "        # was really cool and easy way to create the rows that I wanted\n",
    "        for i in range(len(states)):\n",
    "            name = lines[5+i].strip()\n",
    "            row = list(map(float, lines[5+i].split()[1:]))\n",
    "            t = []\n",
    "\n",
    "            for j in range(len(columns)):\n",
    "                t.append([columns[j], row[j]])\n",
    "            transition[name[0]] = {name: prob for name, prob in t}\n",
    "\n",
    "    hmm = HMM(transition)\n",
    "    print(hmm.hiddenPathProb(path, transition))\n",
    "\n",
    "\n",
    "if __name__ == \"__main__\":\n",
    "    main(inFile='rosalind_ba10a.txt')\n",
    "    # output for sample file == 2.0777937919245553e-23"
   ]
  },
  {
   "cell_type": "markdown",
   "source": [
    "CODE MARKDOWN CELL\n",
    "\n",
    "problem19.ipynb contains class HMM and a main()\n",
    "\n",
    "class HMM contains the method 'hiddenPathProb()', which is required to calculate the probability\n",
    "of a hidden path being in an HMM\n",
    "\n",
    "main() reads from the input file and initializes class HMM with the transition matrix, then\n",
    "calls 'hiddenPathProb()' to solve"
   ],
   "metadata": {
    "collapsed": false
   }
  },
  {
   "cell_type": "markdown",
   "source": [
    "___IMPORTANT NOTE !!!___\n",
    "\n",
    "because of the way I strip in lines, the input file could change and fail the test -- this is only if the\n",
    "orientation (line ordering) of the input file changes, otherwise I think it should be fine"
   ],
   "metadata": {
    "collapsed": false
   }
  }
 ],
 "metadata": {
  "kernelspec": {
   "display_name": "Python 3",
   "language": "python",
   "name": "python3"
  },
  "language_info": {
   "codemirror_mode": {
    "name": "ipython",
    "version": 2
   },
   "file_extension": ".py",
   "mimetype": "text/x-python",
   "name": "python",
   "nbconvert_exporter": "python",
   "pygments_lexer": "ipython2",
   "version": "2.7.6"
  }
 },
 "nbformat": 4,
 "nbformat_minor": 0
}