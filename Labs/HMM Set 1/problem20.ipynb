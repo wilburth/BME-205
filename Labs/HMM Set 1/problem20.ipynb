{
 "cells": [
  {
   "cell_type": "code",
   "execution_count": 2,
   "metadata": {
    "collapsed": true
   },
   "outputs": [
    {
     "name": "stdout",
     "output_type": "stream",
     "text": [
      "3.668370394918308e-30\n"
     ]
    }
   ],
   "source": [
    "class HMM:\n",
    "    '''\n",
    "    class HMM contains the methods required to calculate the conditional probability that\n",
    "    a given string x will be emitted from the HMM, given the hidden path\n",
    "    '''\n",
    "\n",
    "    def __init__(self, emissionMatrix):\n",
    "        '''\n",
    "        initialize necessary vars\n",
    "        '''\n",
    "\n",
    "        self.emissionMatrix = emissionMatrix\n",
    "\n",
    "    def outcomeProbability(self, path, x, emission):\n",
    "        '''\n",
    "        calculates the probability of the HMM emitting a given string x\n",
    "        '''\n",
    "        # emission matrix\n",
    "        # {'A': {'x': 0.408, 'y': 0.15, 'z': 0.441}, 'B': {'x': 0.588, 'y': 0.106, 'z': 0.306}}\n",
    "\n",
    "        probability = 1\n",
    "        for i in range(len(path)):\n",
    "            # https://imgur.com/a/9O4kd0y -- formula\n",
    "            # hidden path is given, can use string[i] to get transition\n",
    "            probability *= emission[path[i]][x[i]]\n",
    "\n",
    "        return probability\n",
    "\n",
    "\n",
    "def main(inFile=None):\n",
    "    '''\n",
    "    reads from input file, initializes emission matrix into class HMM, then calls method to calculate\n",
    "    probability of the HMM emitting given string x\n",
    "\n",
    "    '''\n",
    "\n",
    "    with open(inFile) as inFile:\n",
    "        lines = inFile.readlines()\n",
    "        x = lines[0].strip()\n",
    "        alphabet = lines[2].strip().split()\n",
    "        path = lines[4].strip()\n",
    "        states = lines[6].strip().split()\n",
    "        emit = {}\n",
    "\n",
    "        # used Mikeys way of reading in -- was having a lot of trouble with\n",
    "        # creating the actual emission matrix (for state in states couldn't manipulate properly)\n",
    "        # but using the for i in range of the length of states and then the 9+i to get lines 11 and on\n",
    "        # was really cool and easy way to create the rows that I wanted\n",
    "        for i in range(len(states)):\n",
    "            name = lines[9+i].strip()\n",
    "            row = list(map(float, lines[9+i].split()[1:]))\n",
    "\n",
    "            t = []\n",
    "            for j in range(len(alphabet)):\n",
    "                t.append((alphabet[j], row[j]))\n",
    "            emit[name[0]] = {char: prob for char, prob in t}\n",
    "\n",
    "    hmm = HMM(emit)\n",
    "    print(hmm.outcomeProbability(path, x, emit))\n",
    "\n",
    "\n",
    "if __name__ == \"__main__\":\n",
    "    main(inFile='rosalind_ba10b.txt')\n",
    "    # output for sample file -- 3.668370394918308e-30"
   ]
  },
  {
   "cell_type": "markdown",
   "source": [
    "CODE MARKDOWN CELL\n",
    "\n",
    "problem20 contains class HMM and a main()\n",
    "\n",
    "class HMM contains method 'outcomeProbability', which is required to calculate the probability of an HMM emitting\n",
    "a given string x\n",
    "\n",
    "main() reads from input file, initializes the emission matrix into class HMM, and then calls method\n",
    "'outcomeProbability' to solve."
   ],
   "metadata": {
    "collapsed": false
   }
  },
  {
   "cell_type": "markdown",
   "source": [
    "___IMPORTANT NOTE !!!___\n",
    "\n",
    "because of the way I strip in lines, the input file could change and fail the test -- this is only if the\n",
    "orientation (line ordering) of the input file changes, otherwise I think it should be fine"
   ],
   "metadata": {
    "collapsed": false
   }
  }
 ],
 "metadata": {
  "kernelspec": {
   "display_name": "Python 3",
   "language": "python",
   "name": "python3"
  },
  "language_info": {
   "codemirror_mode": {
    "name": "ipython",
    "version": 2
   },
   "file_extension": ".py",
   "mimetype": "text/x-python",
   "name": "python",
   "nbconvert_exporter": "python",
   "pygments_lexer": "ipython2",
   "version": "2.7.6"
  }
 },
 "nbformat": 4,
 "nbformat_minor": 0
}