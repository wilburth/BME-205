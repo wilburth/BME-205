{
 "cells": [
  {
   "cell_type": "code",
   "execution_count": null,
   "metadata": {
    "collapsed": true
   },
   "outputs": [],
   "source": [
    "# C:\\Users\\wwsch\\anaconda3\\python.exe\n",
    "# Name: William Schlough(wschloug)\n",
    "# Group Members: N/A\n",
    "\n",
    "\n",
    "The Zen of Python, by Tim Peters\n",
    "\n",
    "Beautiful is better than ugly.\n",
    "Explicit is better than implicit.\n",
    "Simple is better than complex.\n",
    "Complex is better than complicated.\n",
    "Flat is better than nested.\n",
    "Sparse is better than dense.\n",
    "Readability counts.\n",
    "Special cases aren't special enough to break the rules.\n",
    "Although practicality beats purity.\n",
    "Errors should never pass silently.\n",
    "Unless explicitly silenced.\n",
    "In the face of ambiguity, refuse the temptation to guess.\n",
    "There should be one-- and preferably only one --obvious way to do it.\n",
    "Although that way may not be obvious at first unless you're Dutch.\n",
    "Now is better than never.\n",
    "Although never is often better than *right* now.\n",
    "If the implementation is hard to explain, it's a bad idea.\n",
    "If the implementation is easy to explain, it may be a good idea.\n",
    "Namespaces are one honking great idea -- let's do more of those!"
   ]
  },
  {
   "cell_type": "code",
   "execution_count": 2,
   "metadata": {
    "pycharm": {
     "name": "#%%\n"
    }
   },
   "outputs": [
    {
     "name": "stdout",
     "output_type": "stream",
     "text": [
      "1757506\n"
     ]
    }
   ],
   "source": [
    "# C:\\Users\\wwsch\\anaconda3\\python.exe\n",
    "# Name: William Schlough(wschloug)\n",
    "# Group Members: N/A\n",
    "\n",
    "def main():\n",
    "\n",
    "    a = 965\n",
    "    b = 909\n",
    "    a2 = a*a\n",
    "    b2 = b*b\n",
    "    c = a2 + b2\n",
    "\n",
    "    print(c)\n",
    "\n",
    "\n",
    "if __name__ == \"__main__\":\n",
    "    main()"
   ]
  },
  {
   "cell_type": "code",
   "execution_count": 3,
   "metadata": {
    "pycharm": {
     "name": "#%%\n"
    }
   },
   "outputs": [
    {
     "name": "stdout",
     "output_type": "stream",
     "text": [
      "Certhia fallax\n"
     ]
    }
   ],
   "source": [
    "# C:\\Users\\wwsch\\anaconda3\\python.exe\n",
    "# Name: William Schlough(wschloug)\n",
    "# Group Members: N/A\n",
    "\n",
    "\n",
    "def main():\n",
    "\n",
    "    string = str(\"m4LmpaNXskcVoAX7litngGK2pLCYMdvakCerthiaYgEIKrwPS9207HskRIxNIK5h1m7R9jNU3sQsBF1T5wo5usiiTKqfCjxvfraxX5DkGLugSye3EB67xo4zqRMKdh1IHQLPwRxIr0fallaxdj5HBVGU3IYTzLxEdMGoevrQm.\")\n",
    "    a = 33\n",
    "    b = 39\n",
    "    c = 138\n",
    "    d = 143\n",
    "\n",
    "    print(string[a:b+1], string[c:d+1])\n",
    "\n",
    "if __name__ == \"__main__\":\n",
    "    main()"
   ]
  },
  {
   "cell_type": "code",
   "execution_count": 4,
   "metadata": {
    "pycharm": {
     "name": "#%%\n"
    }
   },
   "outputs": [
    {
     "name": "stdout",
     "output_type": "stream",
     "text": [
      "Input nucleotide sequence: AAAGGGTTTCCC\n",
      "3 3 3 3\n"
     ]
    }
   ],
   "source": [
    "# C:\\Users\\wwsch\\anaconda3\\python.exe\n",
    "# Name: William Schlough(wschloug)\n",
    "# Group Members: N/A\n",
    "\n",
    "\n",
    "def main():\n",
    "\n",
    "    userInput = input(\"Input nucleotide sequence: \")\n",
    "    string = str(userInput)\n",
    "\n",
    "    nucDict = {\"A\":0, \"T\":0, \"G\":0, \"C\":0} # starting key values are all 0\n",
    "\n",
    "    for nuc in string: # for nucleotide in string input\n",
    "        if nuc in nucDict: # if nucleotide matches A, T, G, or C\n",
    "            nucDict[nuc] += 1  # nuc matching key gets value +1 (everytime its counted)\n",
    "\n",
    "    print(nucDict[\"A\"], nucDict[\"C\"], nucDict[\"G\"], nucDict[\"T\"]) # print in ACGT order --> specified by rosalind Q\n",
    "\n",
    "if __name__ == \"__main__\":\n",
    "    main()"
   ]
  },
  {
   "cell_type": "code",
   "execution_count": 5,
   "metadata": {
    "pycharm": {
     "name": "#%%\n"
    }
   },
   "outputs": [
    {
     "name": "stdout",
     "output_type": "stream",
     "text": [
      "Input two positive integers with a < b < 10000:100 200\n",
      "7500\n"
     ]
    }
   ],
   "source": [
    "# C:\\Users\\wwsch\\anaconda3\\python.exe\n",
    "# Name: William Schlough(wschloug)\n",
    "# Group Members: N/A\n",
    "\n",
    "\n",
    "def main():\n",
    "    userInput = input(\"Input two positive integers with a < b < 10000:\")\n",
    "    sumOdd = 0 # temp variable\n",
    "    a, b = userInput.split() # since we know its just 2 numbers, we can use .split()\n",
    "    for i in range(int(a), int(b) + 1): # for i in range of integer(a) to integer(b)+1     (to count the end)\n",
    "        if i%2 == 1: # if the integer divided by 2 has a remainder of 1 --> meaning its odd\n",
    "            sumOdd += i # start summing them up!\n",
    "\n",
    "    print(sumOdd) # print filled temp variable \"sumOdd\" to system output\n",
    "\n",
    "if __name__ == \"__main__\":\n",
    "    main()"
   ]
  },
  {
   "cell_type": "code",
   "execution_count": 6,
   "metadata": {
    "pycharm": {
     "name": "#%%\n"
    }
   },
   "outputs": [
    {
     "name": "stdout",
     "output_type": "stream",
     "text": [
      "Some things in life are bad, they can really make you mad\n",
      "\n",
      "Other things just make you swear and curse\n",
      "\n",
      "When you're chewing on life's gristle, don't grumble give a whistle\n",
      "\n",
      "This will help things turn out for the best\n",
      "\n",
      "Always look on the bright side of life\n",
      "\n",
      "Always look on the right side of life\n",
      "\n",
      "If life seems jolly rotten, there's something you've forgotten\n",
      "\n",
      "And that's to laugh and smile and dance and sing\n",
      "\n",
      "When you're feeling in the dumps, don't be silly, chumps\n",
      "\n",
      "Just purse your lips and whistle, that's the thing\n",
      "\n",
      "So, always look on the bright side of death\n",
      "\n",
      "Just before you draw your terminal breath\n",
      "\n",
      "Life's a counterfeit and when you look at it\n",
      "\n",
      "Life's a laugh and death's the joke, it's true\n",
      "\n",
      "You see, it's all a show, keep them laughing as you go\n",
      "\n",
      "Just remember the last laugh is on you\n",
      "\n",
      "Always look on the bright side of life\n",
      "\n",
      "And always look on the right side of life\n",
      "\n",
      "Always look on the bright side of life\n",
      "\n",
      "And always look on the right side of life\n",
      "\n"
     ]
    }
   ],
   "source": [
    "# C:\\Users\\wwsch\\anaconda3\\python.exe\n",
    "# Name: William Schlough(wschloug)\n",
    "# Group Members: N/A\n",
    "\n",
    "\n",
    "def main():\n",
    "    f = open('rosalind_ini5.txt', 'r')  # open the input file with 'r'\n",
    "    lineList = f.readlines()            # read the lines in input file\n",
    "    for line in range(len(lineList)):   # for each line in the range of length of lines\n",
    "        if (line+1)%2 is 0:             # technically the even lines we read are actually read as odd lines in code (hence the +1)\n",
    "            print(lineList[line])       # print the even lines!\n",
    "\n",
    "\n",
    "if __name__ == \"__main__\":\n",
    "    main()"
   ]
  },
  {
   "cell_type": "code",
   "execution_count": 7,
   "metadata": {
    "pycharm": {
     "name": "#%%\n"
    }
   },
   "outputs": [
    {
     "name": "stdout",
     "output_type": "stream",
     "text": [
      "Input a string <= 10000 letters: hello my name is\n",
      "hello 1\n",
      "my 1\n",
      "name 1\n",
      "is 1\n"
     ]
    }
   ],
   "source": [
    "# C:\\Users\\wwsch\\anaconda3\\python.exe\n",
    "# Name: William Schlough(wschloug)\n",
    "# Group Members: N/A\n",
    "\n",
    "def main():\n",
    "    userInput = str(input(\"Input a string <= 10000 letters: \"))\n",
    "\n",
    "    wordDict = {}\n",
    "    words = userInput.split()\n",
    "    for word in words:\n",
    "        if word in wordDict:\n",
    "            wordDict[word] += 1\n",
    "        else:\n",
    "            wordDict.update({word:1})\n",
    "\n",
    "    for word in wordDict:\n",
    "        print(word, wordDict[word])\n",
    "\n",
    "if __name__ == \"__main__\":\n",
    "    main()"
   ]
  },
  {
   "cell_type": "code",
   "execution_count": null,
   "metadata": {},
   "outputs": [],
   "source": []
  }
 ],
 "metadata": {
  "kernelspec": {
   "display_name": "Python 3",
   "language": "python",
   "name": "python3"
  },
  "language_info": {
   "codemirror_mode": {
    "name": "ipython",
    "version": 3
   },
   "file_extension": ".py",
   "mimetype": "text/x-python",
   "name": "python",
   "nbconvert_exporter": "python",
   "pygments_lexer": "ipython3",
   "version": "3.7.3"
  }
 },
 "nbformat": 4,
 "nbformat_minor": 1
}
